{
 "metadata": {
  "language_info": {
   "codemirror_mode": {
    "name": "ipython",
    "version": 3
   },
   "file_extension": ".py",
   "mimetype": "text/x-python",
   "name": "python",
   "nbconvert_exporter": "python",
   "pygments_lexer": "ipython3",
   "version": "3.6.9-final"
  },
  "orig_nbformat": 2,
  "kernelspec": {
   "name": "python3",
   "display_name": "Python 3.6.9 64-bit",
   "metadata": {
    "interpreter": {
     "hash": "31f2aee4e71d21fbe5cf8b01ff0e069b9275f58929596ceb00d14d90e3e16cd6"
    }
   }
  }
 },
 "nbformat": 4,
 "nbformat_minor": 2,
 "cells": [
  {
   "cell_type": "code",
   "execution_count": 1,
   "metadata": {},
   "outputs": [],
   "source": [
    "import numpy as np\n",
    "import cv2\n",
    "import scipy\n",
    "import matplotlib.pyplot as plt"
   ]
  },
  {
   "cell_type": "code",
   "execution_count": 2,
   "metadata": {},
   "outputs": [],
   "source": [
    "def createGaussianMask(image_size, sigma_x, sigma_y):\n",
    "    cols, rows = image_size\n",
    "    centre_x, centre_y = rows / 2, cols / 2\n",
    "    x = np.linspace(0, rows, rows)\n",
    "    y = np.linspace(0, cols, cols)\n",
    "    X, Y = np.meshgrid(x,y)\n",
    "    mask = np.exp(-(np.square((X - centre_x)/sigma_x) + np.square((Y - centre_y)/sigma_y)))\n",
    "    return mask"
   ]
  },
  {
   "cell_type": "code",
   "execution_count": 3,
   "metadata": {},
   "outputs": [],
   "source": [
    "def findContour(image):\n",
    "    ret,thresh = cv2.threshold(np.uint8(image), 200 ,255,cv2.THRESH_BINARY)\n",
    "    contours, hierarchy = cv2.findContours(thresh, cv2.RETR_TREE, cv2.CHAIN_APPROX_SIMPLE)\n",
    "    chosen_contours = []\n",
    "\n",
    "    # index1 = np.where(hierarchy[0, :, 3] == -1) \n",
    "    # hierarchy_no_parent = hierarchy[:, index1, :]\n",
    "    # index2 = np.where(hierarchy_no_parent[0, :, 2] != -1)\n",
    "    # hierarchy_no_parent_yes_child = hierarchy_no_parent[:, index2, :]\n",
    "    \n",
    "\n",
    "    previous_area = cv2.contourArea(contours[0])\n",
    "    for j in range(len(contours)):\n",
    "        if hierarchy[0, j, 3] == -1:#no parent\n",
    "            if hierarchy[0, j, 2] !=-1: #child\n",
    "                #print(\"no parent, child present\")\n",
    "                area = cv2.contourArea(contours[j])\n",
    "                if True:#np.abs(area - previous_area) < 10000:\n",
    "                    chosen_contours.append(contours[j])\n",
    "                    previous_area = area\n",
    "\n",
    "    return chosen_contours"
   ]
  },
  {
   "cell_type": "code",
   "execution_count": 4,
   "metadata": {},
   "outputs": [],
   "source": [
    "def findCornersFromContour(contour):\n",
    "    x_min, y_min = np.min(contour, axis = 0)\n",
    "    x_max, y_max = np.max(contour, axis = 0)\n",
    "\n",
    "    index1 = np.where(contour[:,0] == x_min) #topmost point\n",
    "    index1 = index1[0]\n",
    "    index1 = index1[0]\n",
    "    x1 = contour[index1,0]\n",
    "    y1 = contour[index1,1]\n",
    "\n",
    "    index2 = np.where(contour[:,1] == y_max) #right most point\n",
    "    index2 = index2[0]\n",
    "    index2 = index2[0]\n",
    "    x2 = contour[index2, 0]\n",
    "    y2 = contour[index2, 1]\n",
    "\n",
    "    index3 = np.where(contour[:,0] == x_max) #bottommost point\n",
    "    index3 = index3[0]\n",
    "    index3 = index3[0]\n",
    "    x3 = contour[index3, 0]\n",
    "    y3 = contour[index3, 1]\n",
    "\n",
    "    index4 = np.where(contour[:,1] == y_min) #leftmost point\n",
    "    index4 = index4[0]\n",
    "    index4 = index4[0]\n",
    "    x4 = contour[index4, 0]\n",
    "    y4 = contour[index4, 1]\n",
    "\n",
    "    corner = np.array([[x1, y1], [x2, y2], [x3, y3], [x4, y4]])\n",
    "    return corner"
   ]
  },
  {
   "cell_type": "code",
   "execution_count": 5,
   "metadata": {
    "tags": []
   },
   "outputs": [
    {
     "output_type": "stream",
     "name": "stdout",
     "text": [
      "Stream ended..\n"
     ]
    }
   ],
   "source": [
    "BasePath = '/home/sakshi/courses/ENPM673/sakshi_p1/'\n",
    "video_file = BasePath + \"Data/multipleTags.mp4\"\n",
    "cap = cv2.VideoCapture(video_file)\n",
    "\n",
    "while(True):\n",
    "    ret, frame = cap.read()\n",
    "    if not ret:\n",
    "        print(\"Stream ended..\")\n",
    "        break\n",
    "    \n",
    "    image_rgb = frame\n",
    "    image_gray = cv2.cvtColor(frame, cv2.COLOR_BGR2GRAY)\n",
    "    image_gray = cv2.GaussianBlur(image_gray, (21, 21), 0)\n",
    "\n",
    "    chosen_contours = findContour(image_gray)\n",
    "    out_mask = np.zeros_like(image_gray)\n",
    "    corners = []\n",
    "    for chosen_contour in chosen_contours:\n",
    "        # corner = findCornersFromContour(chosen_contour.reshape(-1,2))\n",
    "        # corners.append(corner)\n",
    "        corner = cv2.approxPolyDP(chosen_contour, 0.009 * cv2.arcLength(chosen_contour, True), True)\n",
    "        corners.append(corner.reshape(-1,2))\n",
    "        cv2.drawContours(image_rgb, chosen_contour, -1, (0, 0 ,255), 3, lineType = cv2.LINE_8)\n",
    "        cv2.drawContours(out_mask, [chosen_contour], -1, 1, cv2.FILLED)  \n",
    "\n",
    "    for c in corners:\n",
    "        for r in range(c.shape[0]):\n",
    "            x,y = c[r,:]\n",
    "            cv2.circle(image_rgb,(x,y),20,(255, 0, 255),-1)   \n",
    "\n",
    "        \n",
    "    cv2.imshow('frame',image_rgb)\n",
    "    if cv2.waitKey(1) & 0xFF == ord('q'):\n",
    "        break\n",
    "\n",
    "cap.release()\n",
    "cv2.destroyAllWindows()"
   ]
  },
  {
   "cell_type": "code",
   "execution_count": null,
   "metadata": {},
   "outputs": [],
   "source": []
  }
 ]
}