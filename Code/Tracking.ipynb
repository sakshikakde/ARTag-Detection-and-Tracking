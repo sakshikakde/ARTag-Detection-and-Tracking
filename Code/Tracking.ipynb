{
 "metadata": {
  "language_info": {
   "codemirror_mode": {
    "name": "ipython",
    "version": 3
   },
   "file_extension": ".py",
   "mimetype": "text/x-python",
   "name": "python",
   "nbconvert_exporter": "python",
   "pygments_lexer": "ipython3",
   "version": "3.6.9-final"
  },
  "orig_nbformat": 2,
  "kernelspec": {
   "name": "python3",
   "display_name": "Python 3.6.9 64-bit",
   "metadata": {
    "interpreter": {
     "hash": "31f2aee4e71d21fbe5cf8b01ff0e069b9275f58929596ceb00d14d90e3e16cd6"
    }
   }
  }
 },
 "nbformat": 4,
 "nbformat_minor": 2,
 "cells": [
  {
   "cell_type": "code",
   "execution_count": 1,
   "metadata": {},
   "outputs": [],
   "source": [
    "import numpy as np\n",
    "import cv2\n",
    "import scipy\n",
    "import matplotlib.pyplot as plt\n",
    "from Utils.Utils import *\n",
    "import math"
   ]
  },
  {
   "cell_type": "code",
   "execution_count": 2,
   "metadata": {},
   "outputs": [],
   "source": [
    "def createGaussianMask(image_size, sigma_x, sigma_y):\n",
    "    cols, rows = image_size\n",
    "    centre_x, centre_y = rows / 2, cols / 2\n",
    "    x = np.linspace(0, rows, rows)\n",
    "    y = np.linspace(0, cols, cols)\n",
    "    X, Y = np.meshgrid(x,y)\n",
    "    mask = np.exp(-(np.square((X - centre_x)/sigma_x) + np.square((Y - centre_y)/sigma_y)))\n",
    "    return mask"
   ]
  },
  {
   "cell_type": "code",
   "execution_count": 3,
   "metadata": {},
   "outputs": [],
   "source": [
    "def findContour(image):\n",
    "    ret,thresh = cv2.threshold(np.uint8(image), 200 ,255,cv2.THRESH_BINARY)\n",
    "    contours, hierarchy = cv2.findContours(thresh, cv2.RETR_TREE, cv2.CHAIN_APPROX_SIMPLE)\n",
    "    chosen_contours = []\n",
    "\n",
    "    previous_area = cv2.contourArea(contours[0])\n",
    "    for j in range(len(contours)):\n",
    "        if hierarchy[0, j, 3] == -1:#no parent\n",
    "            if hierarchy[0, j, 2] !=-1: #child\n",
    "                #print(\"no parent, child present\")\n",
    "                area = cv2.contourArea(contours[j])\n",
    "                if True: #np.abs(area - previous_area) < 1000:\n",
    "                    chosen_contours.append(contours[j])\n",
    "                    previous_area = area\n",
    "\n",
    "    return chosen_contours"
   ]
  },
  {
   "cell_type": "code",
   "execution_count": 4,
   "metadata": {},
   "outputs": [],
   "source": [
    "def getTagMask(image):\n",
    "    image_gray = cv2.cvtColor(frame, cv2.COLOR_BGR2GRAY)\n",
    "    image_gray = cv2.GaussianBlur(image_gray, (21, 21), 0)\n",
    "\n",
    "    chosen_contours = findContour(image_gray)\n",
    "    out_mask = np.zeros_like(image_gray)\n",
    "    corners = []\n",
    "    for chosen_contour in chosen_contours:\n",
    "        corner = cv2.approxPolyDP(chosen_contour, 0.009 * cv2.arcLength(chosen_contour, True), True)\n",
    "        corners.append(corner.reshape(-1,2))\n",
    "        cv2.drawContours(out_mask, [chosen_contour], -1, 1, cv2.FILLED)  \n",
    "\n",
    "    out_mask_mul = np.dstack((out_mask, out_mask, out_mask))\n",
    "    detected_april_tag = image_rgb * out_mask_mul\n",
    "    return detected_april_tag\n"
   ]
  },
  {
   "cell_type": "code",
   "execution_count": 5,
   "metadata": {},
   "outputs": [],
   "source": [
    "def getTagCorners(image):\n",
    "\n",
    "    image_gray = cv2.cvtColor(image, cv2.COLOR_BGR2GRAY)\n",
    "    image_gray = cv2.medianBlur(image_gray, 3)\n",
    "\n",
    "    (T, thresh) = cv2.threshold(image_gray, 180, 255, cv2.THRESH_BINARY)\n",
    "    contours, hierarchy=cv2.findContours(thresh, cv2.RETR_TREE, cv2.CHAIN_APPROX_SIMPLE)\n",
    "    ctr=[]\n",
    "    for j, cnt in zip(hierarchy[0], contours):\n",
    "        cnt_len = cv2.arcLength(cnt,True)\n",
    "        cnt = cv2.approxPolyDP(cnt, 0.02*cnt_len,True)\n",
    "        # ctr.append(cnt)\n",
    "\n",
    "        if cv2.isContourConvex(cnt) and len(cnt) == 4 and cv2.contourArea(cnt) > 500 :\n",
    "            cnt=cnt.reshape(-1,2)\n",
    "            #if j[0] == -1 and j[1] == -1 and j[3] != -1:\n",
    "            if j[2] != -1 and j[3] != -1:\n",
    "                ctr.append(cnt)\n",
    "    return ctr\n"
   ]
  },
  {
   "cell_type": "code",
   "execution_count": 18,
   "metadata": {},
   "outputs": [],
   "source": [
    "def extractInfoFromTag(tag):\n",
    "\n",
    "    tag_size = tag.shape[0]\n",
    "    grid_size = 8\n",
    "    pixels_in_one_grid =  int(tag_size/8)\n",
    "\n",
    "    info_with_padding = np.zeros((8,8))\n",
    "\n",
    "    for i in range(0, grid_size, 1):\n",
    "        for j in range(0, grid_size, 1):\n",
    "            grid = tag[i*pixels_in_one_grid:(i+1)*pixels_in_one_grid, j*pixels_in_one_grid:(j+1)*pixels_in_one_grid]\n",
    "            \n",
    "            if np.sum(grid) > 100000*0.7 and np.median(grid) == 255:\n",
    "                # print(np.sum(grid))\n",
    "                info_with_padding[i,j] = 255\n",
    "    # print(info_with_padding)\n",
    "    info = info_with_padding[2:6, 2:6]\n",
    "    return info"
   ]
  },
  {
   "cell_type": "code",
   "execution_count": 24,
   "metadata": {},
   "outputs": [],
   "source": [
    "def rotatePoints(points):\n",
    "    point_list = list(points.copy())\n",
    "    top = point_list.pop(-1)\n",
    "    point_list.insert(0, top)\n",
    "    return np.array(point_list)\n"
   ]
  },
  {
   "cell_type": "code",
   "execution_count": 25,
   "metadata": {
    "tags": []
   },
   "outputs": [
    {
     "output_type": "stream",
     "name": "stdout",
     "text": [
      "rotation =  180\n",
      "rotation =  180\n",
      "rotation =  180\n",
      "rotation =  180\n",
      "rotation =  180\n",
      "rotation =  180\n",
      "rotation =  180\n",
      "rotation =  180\n",
      "rotation =  180\n",
      "rotation =  180\n",
      "rotation =  180\n",
      "rotation =  180\n",
      "rotation =  180\n",
      "rotation =  180\n",
      "rotation =  180\n",
      "rotation =  180\n",
      "rotation =  180\n",
      "rotation =  180\n",
      "rotation =  180\n",
      "rotation =  180\n",
      "rotation =  180\n",
      "rotation =  180\n",
      "rotation =  180\n",
      "rotation =  180\n",
      "rotation =  180\n",
      "rotation =  180\n",
      "rotation =  180\n",
      "rotation =  180\n",
      "rotation =  180\n",
      "rotation =  180\n",
      "rotation =  180\n",
      "rotation =  180\n",
      "rotation =  180\n",
      "rotation =  180\n",
      "rotation =  180\n",
      "rotation =  180\n",
      "rotation =  180\n",
      "rotation =  180\n",
      "rotation =  180\n",
      "rotation =  180\n",
      "rotation =  180\n",
      "rotation =  180\n",
      "rotation =  180\n"
     ]
    },
    {
     "output_type": "error",
     "ename": "KeyboardInterrupt",
     "evalue": "",
     "traceback": [
      "\u001b[0;31m---------------------------------------------------------------------------\u001b[0m",
      "\u001b[0;31mKeyboardInterrupt\u001b[0m                         Traceback (most recent call last)",
      "\u001b[0;32m<ipython-input-25-7168345c3b66>\u001b[0m in \u001b[0;36m<module>\u001b[0;34m\u001b[0m\n\u001b[1;32m     88\u001b[0m \u001b[0;34m\u001b[0m\u001b[0m\n\u001b[1;32m     89\u001b[0m         \u001b[0mH12\u001b[0m \u001b[0;34m=\u001b[0m \u001b[0mcomputeHomography\u001b[0m\u001b[0;34m(\u001b[0m\u001b[0mset1\u001b[0m\u001b[0;34m,\u001b[0m \u001b[0mset2\u001b[0m\u001b[0;34m)\u001b[0m\u001b[0;34m\u001b[0m\u001b[0;34m\u001b[0m\u001b[0m\n\u001b[0;32m---> 90\u001b[0;31m         \u001b[0mdst\u001b[0m \u001b[0;34m=\u001b[0m \u001b[0mapplyHomography2ImageUsingForwardWarping\u001b[0m\u001b[0;34m(\u001b[0m\u001b[0mtestudo_image\u001b[0m\u001b[0;34m,\u001b[0m \u001b[0mH12\u001b[0m\u001b[0;34m,\u001b[0m \u001b[0;34m(\u001b[0m\u001b[0mcols\u001b[0m\u001b[0;34m,\u001b[0m \u001b[0mrows\u001b[0m\u001b[0;34m)\u001b[0m\u001b[0;34m)\u001b[0m\u001b[0;34m\u001b[0m\u001b[0;34m\u001b[0m\u001b[0m\n\u001b[0m\u001b[1;32m     91\u001b[0m \u001b[0;34m\u001b[0m\u001b[0m\n\u001b[1;32m     92\u001b[0m         \u001b[0mplt\u001b[0m\u001b[0;34m.\u001b[0m\u001b[0mimshow\u001b[0m\u001b[0;34m(\u001b[0m\u001b[0mtag\u001b[0m\u001b[0;34m,\u001b[0m \u001b[0mcmap\u001b[0m\u001b[0;34m=\u001b[0m \u001b[0;34m'gray'\u001b[0m\u001b[0;34m)\u001b[0m\u001b[0;34m\u001b[0m\u001b[0;34m\u001b[0m\u001b[0m\n",
      "\u001b[0;32m~/courses/ENPM673/sakshi_p1/Code/Utils/Utils.py\u001b[0m in \u001b[0;36mapplyHomography2ImageUsingForwardWarping\u001b[0;34m(image, H, size)\u001b[0m\n\u001b[1;32m     57\u001b[0m \u001b[0;34m\u001b[0m\u001b[0m\n\u001b[1;32m     58\u001b[0m     \u001b[0mimage_transformed\u001b[0m\u001b[0;34m[\u001b[0m\u001b[0my\u001b[0m\u001b[0;34m,\u001b[0m \u001b[0mx\u001b[0m\u001b[0;34m]\u001b[0m \u001b[0;34m=\u001b[0m \u001b[0mimage\u001b[0m\u001b[0;34m[\u001b[0m\u001b[0mYi\u001b[0m\u001b[0;34m.\u001b[0m\u001b[0mravel\u001b[0m\u001b[0;34m(\u001b[0m\u001b[0;34m)\u001b[0m\u001b[0;34m,\u001b[0m \u001b[0mXi\u001b[0m\u001b[0;34m.\u001b[0m\u001b[0mravel\u001b[0m\u001b[0;34m(\u001b[0m\u001b[0;34m)\u001b[0m\u001b[0;34m]\u001b[0m\u001b[0;34m\u001b[0m\u001b[0;34m\u001b[0m\u001b[0m\n\u001b[0;32m---> 59\u001b[0;31m     \u001b[0mimage_transformed\u001b[0m \u001b[0;34m=\u001b[0m \u001b[0mnp\u001b[0m\u001b[0;34m.\u001b[0m\u001b[0muint8\u001b[0m\u001b[0;34m(\u001b[0m\u001b[0mimage_transformed\u001b[0m\u001b[0;34m)\u001b[0m\u001b[0;34m\u001b[0m\u001b[0;34m\u001b[0m\u001b[0m\n\u001b[0m\u001b[1;32m     60\u001b[0m     \u001b[0;32mreturn\u001b[0m \u001b[0mimage_transformed\u001b[0m\u001b[0;34m\u001b[0m\u001b[0;34m\u001b[0m\u001b[0m\n\u001b[1;32m     61\u001b[0m \u001b[0;34m\u001b[0m\u001b[0m\n",
      "\u001b[0;31mKeyboardInterrupt\u001b[0m: "
     ]
    }
   ],
   "source": [
    "BasePath = '/home/sakshi/courses/ENPM673/sakshi_p1/'\n",
    "video_file = BasePath + \"Data/Tag0.mp4\"\n",
    "cap = cv2.VideoCapture(video_file)\n",
    "\n",
    "testudoFileName = BasePath + \"Data/testudo.jpg\"\n",
    "testudo_image = cv2.imread(testudoFileName)\n",
    "if testudo_image is None:\n",
    "    print(\"testudo image no found!\")\n",
    "\n",
    "\n",
    "testudo_x = testudo_image.shape[0]\n",
    "testudo_y = testudo_image.shape[1]\n",
    "\n",
    "testudo_corners = np.array([[0,0], [0, testudo_y], [testudo_x, testudo_y], [testudo_x, 0]])\n",
    "testudo_corners = sortCorners(testudo_corners)\n",
    "\n",
    "count = 0\n",
    "number_of_tags = 1\n",
    "chosen_frame = 0\n",
    "chosen_corners = 0\n",
    "\n",
    "tag_size = 160\n",
    "desired_tag_corner = sortCorners(np.array([ [0, tag_size], [tag_size, tag_size], [tag_size, 0], [0, 0]]))\n",
    "\n",
    "\n",
    "\n",
    "while(True):\n",
    "    \n",
    "    ret, frame = cap.read()\n",
    "    if not ret:\n",
    "        print(\"Stream ended..\")\n",
    "        break\n",
    "    \n",
    "    image_rgb = frame\n",
    "    rows,cols,ch = image_rgb.shape\n",
    "    \n",
    "    detected_april_tag = np.uint8(getTagMask(image_rgb))\n",
    "\n",
    "    if (count==0):\n",
    "        old_corners = getTagCorners(detected_april_tag)\n",
    "        number_of_tags = len(old_corners)\n",
    "        old_rotation = 0\n",
    "\n",
    "    corners = getTagCorners(detected_april_tag)\n",
    "\n",
    "    if(len(corners) < 1):\n",
    "        corners = old_corners\n",
    "    else:\n",
    "        old_corners = corners\n",
    "\n",
    "    # cv2.drawContours(detected_april_tag, corners,0,(0,255,0),5)\n",
    "    if len(corners) > 3:\n",
    "        print(len(corners))\n",
    "    for corner in corners:\n",
    "        cv2.drawContours(detected_april_tag, [corner], 0, (0,255,0), 5)\n",
    "\n",
    "    for corner in corners:\n",
    "        set1 = testudo_corners\n",
    "        set2 = sortCorners(corner)\n",
    "\n",
    "        # H12 = computeHomography(set1, set2)\n",
    "        # dst = applyHomography2ImageUsingForwardWarping(testudo_image, H12, (cols, rows))\n",
    "\n",
    "        Htd = computeHomography(np.float32(set2), np.float32(desired_tag_corner))\n",
    "        tag = applyHomography2ImageUsingInverseWarping(image_rgb, Htd, (tag_size, tag_size))\n",
    "        tag = cv2.cvtColor(np.uint8(tag), cv2.COLOR_BGR2GRAY)\n",
    "        ret,tag = cv2.threshold(np.uint8(tag), 230 ,255,cv2.THRESH_BINARY)\n",
    "\n",
    "        tag_info = extractInfoFromTag(tag)\n",
    "\n",
    "        corners = np.array([tag_info[0,0], tag_info[0,3], tag_info[3,0], tag_info[3,3]])\n",
    "\n",
    "        rotation = 0 \n",
    "        if not (np.all(corners == 255) or np.all(corners == 0)):\n",
    "            while not tag_info[3,3]:\n",
    "                tag_info = np.rot90(tag_info, 1)\n",
    "                rotation = rotation + 90\n",
    "            \n",
    "            old_rotation = rotation\n",
    "        else:\n",
    "            print(\"Tag not detected properly!\")\n",
    "            rotation = old_rotation\n",
    "\n",
    "        print(\"rotation = \", rotation)\n",
    "        num_rotations = int(rotation/90)\n",
    "        for n in range(num_rotations):\n",
    "            set2 = rotatePoints(set2)\n",
    "\n",
    "        H12 = computeHomography(set1, set2)\n",
    "        dst = applyHomography2ImageUsingForwardWarping(testudo_image, H12, (cols, rows))\n",
    "\n",
    "        plt.imshow(tag, cmap= 'gray')\n",
    "\n",
    "        cv2.fillConvexPoly(image_rgb, set2.astype(int), 0, 16)\n",
    "        image_show = image_rgb + dst\n",
    "\n",
    "    if count == 10:\n",
    "        chosen_frame = image_rgb\n",
    "        chosen_corners = corners\n",
    "\n",
    "    count = count + 1\n",
    "    cv2.imshow('frame', np.uint8(dst))\n",
    "    if cv2.waitKey(1) & 0xFF == ord('q'):\n",
    "        break\n",
    "\n",
    "cap.release()\n",
    "cv2.destroyAllWindows()"
   ]
  },
  {
   "cell_type": "code",
   "execution_count": 26,
   "metadata": {},
   "outputs": [],
   "source": [
    "cv2.destroyAllWindows()"
   ]
  },
  {
   "cell_type": "code",
   "execution_count": 145,
   "metadata": {},
   "outputs": [
    {
     "output_type": "stream",
     "name": "stdout",
     "text": [
      "[[  0 160]\n [160 160]\n [160   0]\n [  0   0]]\n"
     ]
    },
    {
     "output_type": "execute_result",
     "data": {
      "text/plain": [
       "array([[  0,   0],\n",
       "       [  0, 160],\n",
       "       [160, 160],\n",
       "       [160,   0]])"
      ]
     },
     "metadata": {},
     "execution_count": 145
    }
   ],
   "source": [
    "tag_corner = np.array([ [0, tag_size], [tag_size, tag_size], [tag_size, 0], [0, 0]])\n",
    "print(tag_corner)\n",
    "sortCorners(tag_corner)"
   ]
  },
  {
   "cell_type": "code",
   "execution_count": 143,
   "metadata": {},
   "outputs": [
    {
     "output_type": "execute_result",
     "data": {
      "text/plain": [
       "array([[  0, 160],\n",
       "       [160, 160],\n",
       "       [160,   0],\n",
       "       [  0,   0]])"
      ]
     },
     "metadata": {},
     "execution_count": 143
    }
   ],
   "source": [
    "tag_corner"
   ]
  },
  {
   "cell_type": "code",
   "execution_count": 144,
   "metadata": {},
   "outputs": [],
   "source": [
    "def sortCorners(points):\n",
    "\n",
    "    x_sorted = points[np.argsort(points[:,0])]\n",
    "\n",
    "    points_left = x_sorted[0:2, :]\n",
    "    points_right = x_sorted[2:4, :]\n",
    "\n",
    "    left_sorted_y = points_left[np.argsort(points_left[:,1])]\n",
    "    tl, bl = left_sorted_y\n",
    "\n",
    "    right_sorted_y = points_right[np.argsort(points_right[:,1])]\n",
    "    tr, br = right_sorted_y\n",
    "    points_sorted = np.array([tl, bl, br, tr])\n",
    "    return points_sorted"
   ]
  },
  {
   "cell_type": "code",
   "execution_count": 138,
   "metadata": {},
   "outputs": [],
   "source": [
    "points = tag_corner\n",
    "x_sorted = points[np.argsort(points[:,0])]\n",
    "\n",
    "points_left = x_sorted[0:2, :]\n",
    "points_right = x_sorted[2:4, :]\n",
    "\n",
    "left_sorted_y = points_left[np.argsort(points_left[:,1])]\n",
    "tl, bl = left_sorted_y\n",
    "\n",
    "right_sorted_y = points_right[np.argsort(points_right[:,1])]\n",
    "tr, br = right_sorted_y\n",
    "points_sorted = np.array([tl, bl, br, tr])\n",
    "\n"
   ]
  },
  {
   "cell_type": "code",
   "execution_count": 139,
   "metadata": {},
   "outputs": [
    {
     "output_type": "execute_result",
     "data": {
      "text/plain": [
       "array([[1052,  564],\n",
       "       [1093,  627],\n",
       "       [1163,  597],\n",
       "       [1121,  535]], dtype=int32)"
      ]
     },
     "metadata": {},
     "execution_count": 139
    }
   ],
   "source": [
    "points_sorted"
   ]
  },
  {
   "cell_type": "code",
   "execution_count": 140,
   "metadata": {},
   "outputs": [
    {
     "output_type": "execute_result",
     "data": {
      "text/plain": [
       "numpy.ndarray"
      ]
     },
     "metadata": {},
     "execution_count": 140
    }
   ],
   "source": [
    "type(tag_corner)"
   ]
  },
  {
   "cell_type": "code",
   "execution_count": 116,
   "metadata": {},
   "outputs": [
    {
     "output_type": "stream",
     "name": "stdout",
     "text": [
      "[25.51292431 27.17268121 29.84075957 28.1967236 ]\n"
     ]
    },
    {
     "output_type": "execute_result",
     "data": {
      "text/plain": [
       "array([[1121,  535],\n",
       "       [1163,  597],\n",
       "       [1052,  564],\n",
       "       [1093,  627]], dtype=int32)"
      ]
     },
     "metadata": {},
     "execution_count": 116
    }
   ],
   "source": [
    "a = np.angle(v) * 180 / np.pi\n",
    "print(a)\n",
    "s = tag_corner[a.argsort()]\n",
    "s"
   ]
  },
  {
   "cell_type": "code",
   "execution_count": 103,
   "metadata": {},
   "outputs": [
    {
     "output_type": "stream",
     "name": "stdout",
     "text": [
      "[160 160]\n"
     ]
    }
   ],
   "source": [
    "centroid = tag_corner[1]\n",
    "print(centroid)"
   ]
  },
  {
   "cell_type": "code",
   "execution_count": 20,
   "metadata": {},
   "outputs": [
    {
     "output_type": "stream",
     "name": "stdout",
     "text": [
      "(1920, 1920, 3)\n"
     ]
    },
    {
     "output_type": "execute_result",
     "data": {
      "text/plain": [
       "<matplotlib.image.AxesImage at 0x7f12174a59b0>"
      ]
     },
     "metadata": {},
     "execution_count": 20
    },
    {
     "output_type": "display_data",
     "data": {
      "text/plain": "<Figure size 432x288 with 1 Axes>",
      "image/svg+xml": "<?xml version=\"1.0\" encoding=\"utf-8\" standalone=\"no\"?>\n<!DOCTYPE svg PUBLIC \"-//W3C//DTD SVG 1.1//EN\"\n  \"http://www.w3.org/Graphics/SVG/1.1/DTD/svg11.dtd\">\n<!-- Created with matplotlib (https://matplotlib.org/) -->\n<svg height=\"251.637844pt\" version=\"1.1\" viewBox=\"0 0 257.9275 251.637844\" width=\"257.9275pt\" xmlns=\"http://www.w3.org/2000/svg\" xmlns:xlink=\"http://www.w3.org/1999/xlink\">\n <metadata>\n  <rdf:RDF xmlns:cc=\"http://creativecommons.org/ns#\" xmlns:dc=\"http://purl.org/dc/elements/1.1/\" xmlns:rdf=\"http://www.w3.org/1999/02/22-rdf-syntax-ns#\">\n   <cc:Work>\n    <dc:type rdf:resource=\"http://purl.org/dc/dcmitype/StillImage\"/>\n    <dc:date>2021-03-02T20:18:56.663591</dc:date>\n    <dc:format>image/svg+xml</dc:format>\n    <dc:creator>\n     <cc:Agent>\n      <dc:title>Matplotlib v3.3.3, https://matplotlib.org/</dc:title>\n     </cc:Agent>\n    </dc:creator>\n   </cc:Work>\n  </rdf:RDF>\n </metadata>\n <defs>\n  <style type=\"text/css\">*{stroke-linecap:butt;stroke-linejoin:round;}</style>\n </defs>\n <g id=\"figure_1\">\n  <g id=\"patch_1\">\n   <path d=\"M 0 251.637844 \nL 257.9275 251.637844 \nL 257.9275 0 \nL 0 0 \nz\n\" style=\"fill:none;\"/>\n  </g>\n  <g id=\"axes_1\">\n   <g id=\"patch_2\">\n    <path d=\"M 33.2875 227.759719 \nL 250.7275 227.759719 \nL 250.7275 10.319719 \nL 33.2875 10.319719 \nz\n\" style=\"fill:#ffffff;\"/>\n   </g>\n   <g clip-path=\"url(#pa1524bc97c)\">\n    <image height=\"218\" id=\"imageee0d601892\" transform=\"scale(1 -1)translate(0 -218)\" width=\"218\" x=\"33.2875\" xlink:href=\"data:image/png;base64,\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\" y=\"-9.759719\"/>\n   </g>\n   <g id=\"matplotlib.axis_1\">\n    <g id=\"xtick_1\">\n     <g id=\"line2d_1\">\n      <defs>\n       <path d=\"M 0 0 \nL 0 3.5 \n\" id=\"mce4c23a537\" style=\"stroke:#000000;stroke-width:0.8;\"/>\n      </defs>\n      <g>\n       <use style=\"stroke:#000000;stroke-width:0.8;\" x=\"33.967\" xlink:href=\"#mce4c23a537\" y=\"227.759719\"/>\n      </g>\n     </g>\n     <g id=\"text_1\">\n      <!-- 0 -->\n      <g transform=\"translate(30.78575 242.358156)scale(0.1 -0.1)\">\n       <defs>\n        <path d=\"M 31.78125 66.40625 \nQ 24.171875 66.40625 20.328125 58.90625 \nQ 16.5 51.421875 16.5 36.375 \nQ 16.5 21.390625 20.328125 13.890625 \nQ 24.171875 6.390625 31.78125 6.390625 \nQ 39.453125 6.390625 43.28125 13.890625 \nQ 47.125 21.390625 47.125 36.375 \nQ 47.125 51.421875 43.28125 58.90625 \nQ 39.453125 66.40625 31.78125 66.40625 \nz\nM 31.78125 74.21875 \nQ 44.046875 74.21875 50.515625 64.515625 \nQ 56.984375 54.828125 56.984375 36.375 \nQ 56.984375 17.96875 50.515625 8.265625 \nQ 44.046875 -1.421875 31.78125 -1.421875 \nQ 19.53125 -1.421875 13.0625 8.265625 \nQ 6.59375 17.96875 6.59375 36.375 \nQ 6.59375 54.828125 13.0625 64.515625 \nQ 19.53125 74.21875 31.78125 74.21875 \nz\n\" id=\"DejaVuSans-48\"/>\n       </defs>\n       <use xlink:href=\"#DejaVuSans-48\"/>\n      </g>\n     </g>\n    </g>\n    <g id=\"xtick_2\">\n     <g id=\"line2d_2\">\n      <g>\n       <use style=\"stroke:#000000;stroke-width:0.8;\" x=\"67.942\" xlink:href=\"#mce4c23a537\" y=\"227.759719\"/>\n      </g>\n     </g>\n     <g id=\"text_2\">\n      <!-- 25 -->\n      <g transform=\"translate(61.5795 242.358156)scale(0.1 -0.1)\">\n       <defs>\n        <path d=\"M 19.1875 8.296875 \nL 53.609375 8.296875 \nL 53.609375 0 \nL 7.328125 0 \nL 7.328125 8.296875 \nQ 12.9375 14.109375 22.625 23.890625 \nQ 32.328125 33.6875 34.8125 36.53125 \nQ 39.546875 41.84375 41.421875 45.53125 \nQ 43.3125 49.21875 43.3125 52.78125 \nQ 43.3125 58.59375 39.234375 62.25 \nQ 35.15625 65.921875 28.609375 65.921875 \nQ 23.96875 65.921875 18.8125 64.3125 \nQ 13.671875 62.703125 7.8125 59.421875 \nL 7.8125 69.390625 \nQ 13.765625 71.78125 18.9375 73 \nQ 24.125 74.21875 28.421875 74.21875 \nQ 39.75 74.21875 46.484375 68.546875 \nQ 53.21875 62.890625 53.21875 53.421875 \nQ 53.21875 48.921875 51.53125 44.890625 \nQ 49.859375 40.875 45.40625 35.40625 \nQ 44.1875 33.984375 37.640625 27.21875 \nQ 31.109375 20.453125 19.1875 8.296875 \nz\n\" id=\"DejaVuSans-50\"/>\n        <path d=\"M 10.796875 72.90625 \nL 49.515625 72.90625 \nL 49.515625 64.59375 \nL 19.828125 64.59375 \nL 19.828125 46.734375 \nQ 21.96875 47.46875 24.109375 47.828125 \nQ 26.265625 48.1875 28.421875 48.1875 \nQ 40.625 48.1875 47.75 41.5 \nQ 54.890625 34.8125 54.890625 23.390625 \nQ 54.890625 11.625 47.5625 5.09375 \nQ 40.234375 -1.421875 26.90625 -1.421875 \nQ 22.3125 -1.421875 17.546875 -0.640625 \nQ 12.796875 0.140625 7.71875 1.703125 \nL 7.71875 11.625 \nQ 12.109375 9.234375 16.796875 8.0625 \nQ 21.484375 6.890625 26.703125 6.890625 \nQ 35.15625 6.890625 40.078125 11.328125 \nQ 45.015625 15.765625 45.015625 23.390625 \nQ 45.015625 31 40.078125 35.4375 \nQ 35.15625 39.890625 26.703125 39.890625 \nQ 22.75 39.890625 18.8125 39.015625 \nQ 14.890625 38.140625 10.796875 36.28125 \nz\n\" id=\"DejaVuSans-53\"/>\n       </defs>\n       <use xlink:href=\"#DejaVuSans-50\"/>\n       <use x=\"63.623047\" xlink:href=\"#DejaVuSans-53\"/>\n      </g>\n     </g>\n    </g>\n    <g id=\"xtick_3\">\n     <g id=\"line2d_3\">\n      <g>\n       <use style=\"stroke:#000000;stroke-width:0.8;\" x=\"101.917\" xlink:href=\"#mce4c23a537\" y=\"227.759719\"/>\n      </g>\n     </g>\n     <g id=\"text_3\">\n      <!-- 50 -->\n      <g transform=\"translate(95.5545 242.358156)scale(0.1 -0.1)\">\n       <use xlink:href=\"#DejaVuSans-53\"/>\n       <use x=\"63.623047\" xlink:href=\"#DejaVuSans-48\"/>\n      </g>\n     </g>\n    </g>\n    <g id=\"xtick_4\">\n     <g id=\"line2d_4\">\n      <g>\n       <use style=\"stroke:#000000;stroke-width:0.8;\" x=\"135.892\" xlink:href=\"#mce4c23a537\" y=\"227.759719\"/>\n      </g>\n     </g>\n     <g id=\"text_4\">\n      <!-- 75 -->\n      <g transform=\"translate(129.5295 242.358156)scale(0.1 -0.1)\">\n       <defs>\n        <path d=\"M 8.203125 72.90625 \nL 55.078125 72.90625 \nL 55.078125 68.703125 \nL 28.609375 0 \nL 18.3125 0 \nL 43.21875 64.59375 \nL 8.203125 64.59375 \nz\n\" id=\"DejaVuSans-55\"/>\n       </defs>\n       <use xlink:href=\"#DejaVuSans-55\"/>\n       <use x=\"63.623047\" xlink:href=\"#DejaVuSans-53\"/>\n      </g>\n     </g>\n    </g>\n    <g id=\"xtick_5\">\n     <g id=\"line2d_5\">\n      <g>\n       <use style=\"stroke:#000000;stroke-width:0.8;\" x=\"169.867\" xlink:href=\"#mce4c23a537\" y=\"227.759719\"/>\n      </g>\n     </g>\n     <g id=\"text_5\">\n      <!-- 100 -->\n      <g transform=\"translate(160.32325 242.358156)scale(0.1 -0.1)\">\n       <defs>\n        <path d=\"M 12.40625 8.296875 \nL 28.515625 8.296875 \nL 28.515625 63.921875 \nL 10.984375 60.40625 \nL 10.984375 69.390625 \nL 28.421875 72.90625 \nL 38.28125 72.90625 \nL 38.28125 8.296875 \nL 54.390625 8.296875 \nL 54.390625 0 \nL 12.40625 0 \nz\n\" id=\"DejaVuSans-49\"/>\n       </defs>\n       <use xlink:href=\"#DejaVuSans-49\"/>\n       <use x=\"63.623047\" xlink:href=\"#DejaVuSans-48\"/>\n       <use x=\"127.246094\" xlink:href=\"#DejaVuSans-48\"/>\n      </g>\n     </g>\n    </g>\n    <g id=\"xtick_6\">\n     <g id=\"line2d_6\">\n      <g>\n       <use style=\"stroke:#000000;stroke-width:0.8;\" x=\"203.842\" xlink:href=\"#mce4c23a537\" y=\"227.759719\"/>\n      </g>\n     </g>\n     <g id=\"text_6\">\n      <!-- 125 -->\n      <g transform=\"translate(194.29825 242.358156)scale(0.1 -0.1)\">\n       <use xlink:href=\"#DejaVuSans-49\"/>\n       <use x=\"63.623047\" xlink:href=\"#DejaVuSans-50\"/>\n       <use x=\"127.246094\" xlink:href=\"#DejaVuSans-53\"/>\n      </g>\n     </g>\n    </g>\n    <g id=\"xtick_7\">\n     <g id=\"line2d_7\">\n      <g>\n       <use style=\"stroke:#000000;stroke-width:0.8;\" x=\"237.817\" xlink:href=\"#mce4c23a537\" y=\"227.759719\"/>\n      </g>\n     </g>\n     <g id=\"text_7\">\n      <!-- 150 -->\n      <g transform=\"translate(228.27325 242.358156)scale(0.1 -0.1)\">\n       <use xlink:href=\"#DejaVuSans-49\"/>\n       <use x=\"63.623047\" xlink:href=\"#DejaVuSans-53\"/>\n       <use x=\"127.246094\" xlink:href=\"#DejaVuSans-48\"/>\n      </g>\n     </g>\n    </g>\n   </g>\n   <g id=\"matplotlib.axis_2\">\n    <g id=\"ytick_1\">\n     <g id=\"line2d_8\">\n      <defs>\n       <path d=\"M 0 0 \nL -3.5 0 \n\" id=\"mbff7d6eee7\" style=\"stroke:#000000;stroke-width:0.8;\"/>\n      </defs>\n      <g>\n       <use style=\"stroke:#000000;stroke-width:0.8;\" x=\"33.2875\" xlink:href=\"#mbff7d6eee7\" y=\"10.999219\"/>\n      </g>\n     </g>\n     <g id=\"text_8\">\n      <!-- 0 -->\n      <g transform=\"translate(19.925 14.798437)scale(0.1 -0.1)\">\n       <use xlink:href=\"#DejaVuSans-48\"/>\n      </g>\n     </g>\n    </g>\n    <g id=\"ytick_2\">\n     <g id=\"line2d_9\">\n      <g>\n       <use style=\"stroke:#000000;stroke-width:0.8;\" x=\"33.2875\" xlink:href=\"#mbff7d6eee7\" y=\"38.179219\"/>\n      </g>\n     </g>\n     <g id=\"text_9\">\n      <!-- 20 -->\n      <g transform=\"translate(13.5625 41.978437)scale(0.1 -0.1)\">\n       <use xlink:href=\"#DejaVuSans-50\"/>\n       <use x=\"63.623047\" xlink:href=\"#DejaVuSans-48\"/>\n      </g>\n     </g>\n    </g>\n    <g id=\"ytick_3\">\n     <g id=\"line2d_10\">\n      <g>\n       <use style=\"stroke:#000000;stroke-width:0.8;\" x=\"33.2875\" xlink:href=\"#mbff7d6eee7\" y=\"65.359219\"/>\n      </g>\n     </g>\n     <g id=\"text_10\">\n      <!-- 40 -->\n      <g transform=\"translate(13.5625 69.158437)scale(0.1 -0.1)\">\n       <defs>\n        <path d=\"M 37.796875 64.3125 \nL 12.890625 25.390625 \nL 37.796875 25.390625 \nz\nM 35.203125 72.90625 \nL 47.609375 72.90625 \nL 47.609375 25.390625 \nL 58.015625 25.390625 \nL 58.015625 17.1875 \nL 47.609375 17.1875 \nL 47.609375 0 \nL 37.796875 0 \nL 37.796875 17.1875 \nL 4.890625 17.1875 \nL 4.890625 26.703125 \nz\n\" id=\"DejaVuSans-52\"/>\n       </defs>\n       <use xlink:href=\"#DejaVuSans-52\"/>\n       <use x=\"63.623047\" xlink:href=\"#DejaVuSans-48\"/>\n      </g>\n     </g>\n    </g>\n    <g id=\"ytick_4\">\n     <g id=\"line2d_11\">\n      <g>\n       <use style=\"stroke:#000000;stroke-width:0.8;\" x=\"33.2875\" xlink:href=\"#mbff7d6eee7\" y=\"92.539219\"/>\n      </g>\n     </g>\n     <g id=\"text_11\">\n      <!-- 60 -->\n      <g transform=\"translate(13.5625 96.338437)scale(0.1 -0.1)\">\n       <defs>\n        <path d=\"M 33.015625 40.375 \nQ 26.375 40.375 22.484375 35.828125 \nQ 18.609375 31.296875 18.609375 23.390625 \nQ 18.609375 15.53125 22.484375 10.953125 \nQ 26.375 6.390625 33.015625 6.390625 \nQ 39.65625 6.390625 43.53125 10.953125 \nQ 47.40625 15.53125 47.40625 23.390625 \nQ 47.40625 31.296875 43.53125 35.828125 \nQ 39.65625 40.375 33.015625 40.375 \nz\nM 52.59375 71.296875 \nL 52.59375 62.3125 \nQ 48.875 64.0625 45.09375 64.984375 \nQ 41.3125 65.921875 37.59375 65.921875 \nQ 27.828125 65.921875 22.671875 59.328125 \nQ 17.53125 52.734375 16.796875 39.40625 \nQ 19.671875 43.65625 24.015625 45.921875 \nQ 28.375 48.1875 33.59375 48.1875 \nQ 44.578125 48.1875 50.953125 41.515625 \nQ 57.328125 34.859375 57.328125 23.390625 \nQ 57.328125 12.15625 50.6875 5.359375 \nQ 44.046875 -1.421875 33.015625 -1.421875 \nQ 20.359375 -1.421875 13.671875 8.265625 \nQ 6.984375 17.96875 6.984375 36.375 \nQ 6.984375 53.65625 15.1875 63.9375 \nQ 23.390625 74.21875 37.203125 74.21875 \nQ 40.921875 74.21875 44.703125 73.484375 \nQ 48.484375 72.75 52.59375 71.296875 \nz\n\" id=\"DejaVuSans-54\"/>\n       </defs>\n       <use xlink:href=\"#DejaVuSans-54\"/>\n       <use x=\"63.623047\" xlink:href=\"#DejaVuSans-48\"/>\n      </g>\n     </g>\n    </g>\n    <g id=\"ytick_5\">\n     <g id=\"line2d_12\">\n      <g>\n       <use style=\"stroke:#000000;stroke-width:0.8;\" x=\"33.2875\" xlink:href=\"#mbff7d6eee7\" y=\"119.719219\"/>\n      </g>\n     </g>\n     <g id=\"text_12\">\n      <!-- 80 -->\n      <g transform=\"translate(13.5625 123.518437)scale(0.1 -0.1)\">\n       <defs>\n        <path d=\"M 31.78125 34.625 \nQ 24.75 34.625 20.71875 30.859375 \nQ 16.703125 27.09375 16.703125 20.515625 \nQ 16.703125 13.921875 20.71875 10.15625 \nQ 24.75 6.390625 31.78125 6.390625 \nQ 38.8125 6.390625 42.859375 10.171875 \nQ 46.921875 13.96875 46.921875 20.515625 \nQ 46.921875 27.09375 42.890625 30.859375 \nQ 38.875 34.625 31.78125 34.625 \nz\nM 21.921875 38.8125 \nQ 15.578125 40.375 12.03125 44.71875 \nQ 8.5 49.078125 8.5 55.328125 \nQ 8.5 64.0625 14.71875 69.140625 \nQ 20.953125 74.21875 31.78125 74.21875 \nQ 42.671875 74.21875 48.875 69.140625 \nQ 55.078125 64.0625 55.078125 55.328125 \nQ 55.078125 49.078125 51.53125 44.71875 \nQ 48 40.375 41.703125 38.8125 \nQ 48.828125 37.15625 52.796875 32.3125 \nQ 56.78125 27.484375 56.78125 20.515625 \nQ 56.78125 9.90625 50.3125 4.234375 \nQ 43.84375 -1.421875 31.78125 -1.421875 \nQ 19.734375 -1.421875 13.25 4.234375 \nQ 6.78125 9.90625 6.78125 20.515625 \nQ 6.78125 27.484375 10.78125 32.3125 \nQ 14.796875 37.15625 21.921875 38.8125 \nz\nM 18.3125 54.390625 \nQ 18.3125 48.734375 21.84375 45.5625 \nQ 25.390625 42.390625 31.78125 42.390625 \nQ 38.140625 42.390625 41.71875 45.5625 \nQ 45.3125 48.734375 45.3125 54.390625 \nQ 45.3125 60.0625 41.71875 63.234375 \nQ 38.140625 66.40625 31.78125 66.40625 \nQ 25.390625 66.40625 21.84375 63.234375 \nQ 18.3125 60.0625 18.3125 54.390625 \nz\n\" id=\"DejaVuSans-56\"/>\n       </defs>\n       <use xlink:href=\"#DejaVuSans-56\"/>\n       <use x=\"63.623047\" xlink:href=\"#DejaVuSans-48\"/>\n      </g>\n     </g>\n    </g>\n    <g id=\"ytick_6\">\n     <g id=\"line2d_13\">\n      <g>\n       <use style=\"stroke:#000000;stroke-width:0.8;\" x=\"33.2875\" xlink:href=\"#mbff7d6eee7\" y=\"146.899219\"/>\n      </g>\n     </g>\n     <g id=\"text_13\">\n      <!-- 100 -->\n      <g transform=\"translate(7.2 150.698437)scale(0.1 -0.1)\">\n       <use xlink:href=\"#DejaVuSans-49\"/>\n       <use x=\"63.623047\" xlink:href=\"#DejaVuSans-48\"/>\n       <use x=\"127.246094\" xlink:href=\"#DejaVuSans-48\"/>\n      </g>\n     </g>\n    </g>\n    <g id=\"ytick_7\">\n     <g id=\"line2d_14\">\n      <g>\n       <use style=\"stroke:#000000;stroke-width:0.8;\" x=\"33.2875\" xlink:href=\"#mbff7d6eee7\" y=\"174.079219\"/>\n      </g>\n     </g>\n     <g id=\"text_14\">\n      <!-- 120 -->\n      <g transform=\"translate(7.2 177.878437)scale(0.1 -0.1)\">\n       <use xlink:href=\"#DejaVuSans-49\"/>\n       <use x=\"63.623047\" xlink:href=\"#DejaVuSans-50\"/>\n       <use x=\"127.246094\" xlink:href=\"#DejaVuSans-48\"/>\n      </g>\n     </g>\n    </g>\n    <g id=\"ytick_8\">\n     <g id=\"line2d_15\">\n      <g>\n       <use style=\"stroke:#000000;stroke-width:0.8;\" x=\"33.2875\" xlink:href=\"#mbff7d6eee7\" y=\"201.259219\"/>\n      </g>\n     </g>\n     <g id=\"text_15\">\n      <!-- 140 -->\n      <g transform=\"translate(7.2 205.058437)scale(0.1 -0.1)\">\n       <use xlink:href=\"#DejaVuSans-49\"/>\n       <use x=\"63.623047\" xlink:href=\"#DejaVuSans-52\"/>\n       <use x=\"127.246094\" xlink:href=\"#DejaVuSans-48\"/>\n      </g>\n     </g>\n    </g>\n   </g>\n   <g id=\"patch_3\">\n    <path d=\"M 33.2875 227.759719 \nL 33.2875 10.319719 \n\" style=\"fill:none;stroke:#000000;stroke-linecap:square;stroke-linejoin:miter;stroke-width:0.8;\"/>\n   </g>\n   <g id=\"patch_4\">\n    <path d=\"M 250.7275 227.759719 \nL 250.7275 10.319719 \n\" style=\"fill:none;stroke:#000000;stroke-linecap:square;stroke-linejoin:miter;stroke-width:0.8;\"/>\n   </g>\n   <g id=\"patch_5\">\n    <path d=\"M 33.2875 227.759719 \nL 250.7275 227.759719 \n\" style=\"fill:none;stroke:#000000;stroke-linecap:square;stroke-linejoin:miter;stroke-width:0.8;\"/>\n   </g>\n   <g id=\"patch_6\">\n    <path d=\"M 33.2875 10.319719 \nL 250.7275 10.319719 \n\" style=\"fill:none;stroke:#000000;stroke-linecap:square;stroke-linejoin:miter;stroke-width:0.8;\"/>\n   </g>\n  </g>\n </g>\n <defs>\n  <clipPath id=\"pa1524bc97c\">\n   <rect height=\"217.44\" width=\"217.44\" x=\"33.2875\" y=\"10.319719\"/>\n  </clipPath>\n </defs>\n</svg>\n",
      "image/png": "[encoded data removed]"
     },
     "metadata": {
      "needs_background": "light"
     }
    }
   ],
   "source": [
    "tag = applyHomography2ImageUsingInverseWarping(chosen_frame, Htd, (tag_size, tag_size))\n",
    "tag = cv2.cvtColor(np.uint8(tag), cv2.COLOR_BGR2GRAY)\n",
    "ret,tag = cv2.threshold(np.uint8(tag), 230 ,255,cv2.THRESH_BINARY)\n",
    "plt.imshow(tag, cmap= 'gray')"
   ]
  },
  {
   "cell_type": "code",
   "execution_count": null,
   "metadata": {},
   "outputs": [],
   "source": []
  }
 ]
}