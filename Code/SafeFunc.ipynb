{
 "metadata": {
  "language_info": {
   "codemirror_mode": {
    "name": "ipython",
    "version": 3
   },
   "file_extension": ".py",
   "mimetype": "text/x-python",
   "name": "python",
   "nbconvert_exporter": "python",
   "pygments_lexer": "ipython3",
   "version": 3
  },
  "orig_nbformat": 2
 },
 "nbformat": 4,
 "nbformat_minor": 2,
 "cells": [
  {
   "cell_type": "code",
   "execution_count": null,
   "metadata": {},
   "outputs": [],
   "source": [
    "\n",
    "def to_mtx(img):\n",
    "    H,V,C = img.shape\n",
    "    mtr = np.zeros((V,H,C), dtype='int')\n",
    "    for i in range(img.shape[0]):\n",
    "        mtr[:,i] = img[i]\n",
    "    \n",
    "    return mtr\n",
    "\n",
    "def to_img(mtr):\n",
    "    V,H,C = mtr.shape\n",
    "    img = np.zeros((H,V,C), dtype='int')\n",
    "    for i in range(mtr.shape[0]):\n",
    "        img[:,i] = mtr[i]\n",
    "        \n",
    "    return img"
   ]
  },
  {
   "cell_type": "code",
   "execution_count": null,
   "metadata": {},
   "outputs": [],
   "source": [
    "def Wp(img, M, dsize):\n",
    "    mtr = to_mtx(img)\n",
    "    R,C = dsize\n",
    "    dst = np.zeros((R,C,mtr.shape[2]))\n",
    "    for i in range(mtr.shape[0]):\n",
    "        for j in range(mtr.shape[1]):\n",
    "            res = np.dot(M, [i,j,1])\n",
    "            i2,j2,_ = (res / res[2] + 0.5).astype(int)\n",
    "            if i2 >= 0 and i2 < R:\n",
    "                if j2 >= 0 and j2 < C:\n",
    "                    dst[i2,j2] = mtr[i,j]\n",
    "    \n",
    "    return to_img(dst)"
   ]
  },
  {
   "cell_type": "code",
   "execution_count": null,
   "metadata": {},
   "outputs": [],
   "source": [
    "def applyHomography2ImageUsingForwardWarping(image, H, size):\n",
    "    h, w = image.shape[:2] \n",
    "    Yi, Xi = np.indices((h, w)) \n",
    "    lin_homg_pts = np.stack((Xi.ravel(), Yi.ravel(), np.ones(Xi.size)))\n",
    "    trans_lin_homg_pts = H12.dot(lin_homg_pts)\n",
    "    trans_lin_homg_pts /= (trans_lin_homg_pts[2,:] + 0.01)\n",
    "    trans_lin_homg_pts = np.round(trans_lin_homg_pts).astype(int)\n",
    "\n",
    "    X_min = np.min(trans_lin_homg_pts[0,:])\n",
    "    Y_min = np.min(trans_lin_homg_pts[1,:])\n",
    "    X_max = np.max(trans_lin_homg_pts[0,:])\n",
    "    Y_max = np.max(trans_lin_homg_pts[1,:])\n",
    "\n",
    "    image_transformed = np.zeros((rows, cols, 3)) \n",
    "    x = trans_lin_homg_pts[0,:]\n",
    "    y = trans_lin_homg_pts[1,:]\n",
    "    \n",
    "\n",
    "    x[x >= cols] = cols - 1\n",
    "    y[y >= rows] = rows - 1\n",
    "    x[x < 0] = 0\n",
    "    y[y < 0] = 0\n",
    "\n",
    "    image_transformed[y, x] = image[Yi.ravel(), Xi.ravel()]\n",
    "    image_transformed = np.uint8(image_transformed)\n",
    "    return image_transformed\n",
    "\n"
   ]
  }
 ]
}